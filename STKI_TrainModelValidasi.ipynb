{
 "cells": [
  {
   "cell_type": "markdown",
   "metadata": {
    "id": "QflO7qZja8AP"
   },
   "source": [
    "## Import Library"
   ]
  },
  {
   "cell_type": "code",
   "execution_count": 1,
   "metadata": {
    "id": "01GRln9mYf_c"
   },
   "outputs": [],
   "source": [
    "import os\n",
    "import pickle\n",
    "import numpy as np\n",
    "from sklearn.metrics import classification_report\n",
    "from tensorflow.keras.models import Sequential\n",
    "from tensorflow.keras.layers import Dense, Dropout\n",
    "from tensorflow.keras.utils import to_categorical"
   ]
  },
  {
   "cell_type": "markdown",
   "metadata": {
    "id": "9AbEc1Dla-8p"
   },
   "source": [
    "## Validasi"
   ]
  },
  {
   "cell_type": "code",
   "execution_count": 2,
   "metadata": {
    "id": "_E56J6d9appm"
   },
   "outputs": [],
   "source": [
    "# Path hasil ekstraksi fitur\n",
    "path_output = \"dataset\\DatasetFinal\\model\"\n",
    "train_file = os.path.join(path_output, \"fitur_vggface.pkl\")\n",
    "val_file = os.path.join(path_output, \"fitur_val_vggface.pkl\")"
   ]
  },
  {
   "cell_type": "code",
   "execution_count": 3,
   "metadata": {
    "id": "G27Rua6haqJN"
   },
   "outputs": [],
   "source": [
    "# Load fitur dan label untuk train\n",
    "if not os.path.exists(train_file):\n",
    "    raise FileNotFoundError(f\"Hasil ekstraksi train tidak ditemukan di {train_file}\")\n",
    "if not os.path.exists(val_file):\n",
    "    raise FileNotFoundError(f\"Hasil ekstraksi val tidak ditemukan di {val_file}\")\n",
    "\n",
    "with open(train_file, \"rb\") as f:\n",
    "    train_data = pickle.load(f)\n",
    "    train_features = np.array(train_data[\"features\"])\n",
    "    train_labels = np.array(train_data[\"labels\"])\n",
    "\n",
    "with open(val_file, \"rb\") as f:\n",
    "    val_data = pickle.load(f)\n",
    "    val_features = np.array(val_data[\"features\"])\n",
    "    val_labels = np.array(val_data[\"labels\"])"
   ]
  },
  {
   "cell_type": "code",
   "execution_count": 4,
   "metadata": {
    "id": "smOsvba4at-Q"
   },
   "outputs": [],
   "source": [
    "# Label encoding\n",
    "label_map = {\"Drowsy\": 0, \"Non Drowsy\": 1}\n",
    "train_labels_encoded = np.array([label_map[label] for label in train_labels])\n",
    "val_labels_encoded = np.array([label_map[label] for label in val_labels])\n",
    "\n",
    "# One-hot encoding untuk label\n",
    "train_labels_categorical = to_categorical(train_labels_encoded, num_classes=2)\n",
    "val_labels_categorical = to_categorical(val_labels_encoded, num_classes=2)"
   ]
  },
  {
   "cell_type": "code",
   "execution_count": 5,
   "metadata": {
    "colab": {
     "base_uri": "https://localhost:8080/"
    },
    "id": "vlZH0ugRawPO",
    "outputId": "7b4cd845-9c2c-4d8a-89f4-d9258c956583"
   },
   "outputs": [
    {
     "name": "stdout",
     "output_type": "stream",
     "text": [
      "Membangun model FCNN...\n"
     ]
    },
    {
     "name": "stderr",
     "output_type": "stream",
     "text": [
      "C:\\Users\\Acer\\AppData\\Local\\Programs\\Python\\Python311\\Lib\\site-packages\\keras\\src\\layers\\core\\dense.py:87: UserWarning: Do not pass an `input_shape`/`input_dim` argument to a layer. When using Sequential models, prefer using an `Input(shape)` object as the first layer in the model instead.\n",
      "  super().__init__(activity_regularizer=activity_regularizer, **kwargs)\n"
     ]
    },
    {
     "name": "stdout",
     "output_type": "stream",
     "text": [
      "Melatih model FCNN...\n",
      "Epoch 1/20\n",
      "\u001b[1m913/913\u001b[0m \u001b[32m━━━━━━━━━━━━━━━━━━━━\u001b[0m\u001b[37m\u001b[0m \u001b[1m9s\u001b[0m 8ms/step - accuracy: 0.9422 - loss: 0.1400 - val_accuracy: 0.9976 - val_loss: 0.0057\n",
      "Epoch 2/20\n",
      "\u001b[1m913/913\u001b[0m \u001b[32m━━━━━━━━━━━━━━━━━━━━\u001b[0m\u001b[37m\u001b[0m \u001b[1m7s\u001b[0m 8ms/step - accuracy: 0.9975 - loss: 0.0071 - val_accuracy: 0.9990 - val_loss: 0.0024\n",
      "Epoch 3/20\n",
      "\u001b[1m913/913\u001b[0m \u001b[32m━━━━━━━━━━━━━━━━━━━━\u001b[0m\u001b[37m\u001b[0m \u001b[1m7s\u001b[0m 7ms/step - accuracy: 0.9984 - loss: 0.0038 - val_accuracy: 0.9981 - val_loss: 0.0068\n",
      "Epoch 4/20\n",
      "\u001b[1m913/913\u001b[0m \u001b[32m━━━━━━━━━━━━━━━━━━━━\u001b[0m\u001b[37m\u001b[0m \u001b[1m7s\u001b[0m 8ms/step - accuracy: 0.9985 - loss: 0.0046 - val_accuracy: 0.9987 - val_loss: 0.0026\n",
      "Epoch 5/20\n",
      "\u001b[1m913/913\u001b[0m \u001b[32m━━━━━━━━━━━━━━━━━━━━\u001b[0m\u001b[37m\u001b[0m \u001b[1m7s\u001b[0m 7ms/step - accuracy: 0.9988 - loss: 0.0040 - val_accuracy: 0.9982 - val_loss: 0.0051\n",
      "Epoch 6/20\n",
      "\u001b[1m913/913\u001b[0m \u001b[32m━━━━━━━━━━━━━━━━━━━━\u001b[0m\u001b[37m\u001b[0m \u001b[1m7s\u001b[0m 7ms/step - accuracy: 0.9987 - loss: 0.0033 - val_accuracy: 0.9986 - val_loss: 0.0031\n",
      "Epoch 7/20\n",
      "\u001b[1m913/913\u001b[0m \u001b[32m━━━━━━━━━━━━━━━━━━━━\u001b[0m\u001b[37m\u001b[0m \u001b[1m7s\u001b[0m 7ms/step - accuracy: 0.9994 - loss: 0.0018 - val_accuracy: 0.9990 - val_loss: 0.0017\n",
      "Epoch 8/20\n",
      "\u001b[1m913/913\u001b[0m \u001b[32m━━━━━━━━━━━━━━━━━━━━\u001b[0m\u001b[37m\u001b[0m \u001b[1m7s\u001b[0m 7ms/step - accuracy: 0.9986 - loss: 0.0042 - val_accuracy: 0.9992 - val_loss: 0.0031\n",
      "Epoch 9/20\n",
      "\u001b[1m913/913\u001b[0m \u001b[32m━━━━━━━━━━━━━━━━━━━━\u001b[0m\u001b[37m\u001b[0m \u001b[1m7s\u001b[0m 7ms/step - accuracy: 0.9990 - loss: 0.0022 - val_accuracy: 0.9994 - val_loss: 0.0027\n",
      "Epoch 10/20\n",
      "\u001b[1m913/913\u001b[0m \u001b[32m━━━━━━━━━━━━━━━━━━━━\u001b[0m\u001b[37m\u001b[0m \u001b[1m7s\u001b[0m 8ms/step - accuracy: 0.9993 - loss: 0.0023 - val_accuracy: 0.9990 - val_loss: 0.0039\n",
      "Epoch 11/20\n",
      "\u001b[1m913/913\u001b[0m \u001b[32m━━━━━━━━━━━━━━━━━━━━\u001b[0m\u001b[37m\u001b[0m \u001b[1m7s\u001b[0m 7ms/step - accuracy: 0.9996 - loss: 0.0014 - val_accuracy: 0.9995 - val_loss: 0.0019\n",
      "Epoch 12/20\n",
      "\u001b[1m913/913\u001b[0m \u001b[32m━━━━━━━━━━━━━━━━━━━━\u001b[0m\u001b[37m\u001b[0m \u001b[1m7s\u001b[0m 8ms/step - accuracy: 0.9997 - loss: 9.4292e-04 - val_accuracy: 0.9979 - val_loss: 0.0062\n",
      "Epoch 13/20\n",
      "\u001b[1m913/913\u001b[0m \u001b[32m━━━━━━━━━━━━━━━━━━━━\u001b[0m\u001b[37m\u001b[0m \u001b[1m7s\u001b[0m 7ms/step - accuracy: 0.9995 - loss: 0.0012 - val_accuracy: 0.9994 - val_loss: 0.0023\n",
      "Epoch 14/20\n",
      "\u001b[1m913/913\u001b[0m \u001b[32m━━━━━━━━━━━━━━━━━━━━\u001b[0m\u001b[37m\u001b[0m \u001b[1m7s\u001b[0m 7ms/step - accuracy: 0.9994 - loss: 0.0019 - val_accuracy: 0.9994 - val_loss: 0.0022\n",
      "Epoch 15/20\n",
      "\u001b[1m913/913\u001b[0m \u001b[32m━━━━━━━━━━━━━━━━━━━━\u001b[0m\u001b[37m\u001b[0m \u001b[1m7s\u001b[0m 8ms/step - accuracy: 0.9995 - loss: 0.0013 - val_accuracy: 0.9995 - val_loss: 0.0026\n",
      "Epoch 16/20\n",
      "\u001b[1m913/913\u001b[0m \u001b[32m━━━━━━━━━━━━━━━━━━━━\u001b[0m\u001b[37m\u001b[0m \u001b[1m7s\u001b[0m 8ms/step - accuracy: 0.9997 - loss: 0.0011 - val_accuracy: 0.9987 - val_loss: 0.0081\n",
      "Epoch 17/20\n",
      "\u001b[1m913/913\u001b[0m \u001b[32m━━━━━━━━━━━━━━━━━━━━\u001b[0m\u001b[37m\u001b[0m \u001b[1m7s\u001b[0m 7ms/step - accuracy: 0.9997 - loss: 0.0013 - val_accuracy: 0.9995 - val_loss: 0.0010\n",
      "Epoch 18/20\n",
      "\u001b[1m913/913\u001b[0m \u001b[32m━━━━━━━━━━━━━━━━━━━━\u001b[0m\u001b[37m\u001b[0m \u001b[1m7s\u001b[0m 7ms/step - accuracy: 0.9998 - loss: 8.7797e-04 - val_accuracy: 0.9994 - val_loss: 0.0044\n",
      "Epoch 19/20\n",
      "\u001b[1m913/913\u001b[0m \u001b[32m━━━━━━━━━━━━━━━━━━━━\u001b[0m\u001b[37m\u001b[0m \u001b[1m7s\u001b[0m 7ms/step - accuracy: 0.9998 - loss: 9.0172e-04 - val_accuracy: 0.9998 - val_loss: 0.0010\n",
      "Epoch 20/20\n",
      "\u001b[1m913/913\u001b[0m \u001b[32m━━━━━━━━━━━━━━━━━━━━\u001b[0m\u001b[37m\u001b[0m \u001b[1m7s\u001b[0m 7ms/step - accuracy: 0.9998 - loss: 9.5643e-04 - val_accuracy: 0.9998 - val_loss: 7.7354e-04\n"
     ]
    },
    {
     "name": "stderr",
     "output_type": "stream",
     "text": [
      "WARNING:absl:You are saving your model as an HDF5 file via `model.save()` or `keras.saving.save_model(model)`. This file format is considered legacy. We recommend using instead the native Keras format, e.g. `model.save('my_model.keras')` or `keras.saving.save_model(model, 'my_model.keras')`. \n"
     ]
    },
    {
     "name": "stdout",
     "output_type": "stream",
     "text": [
      "Model disimpan di dataset\\DatasetFinal\\model\\fcnn_model.h5\n"
     ]
    }
   ],
   "source": [
    "# Bangun model FCNN\n",
    "print(\"Membangun model FCNN...\")\n",
    "model = Sequential([\n",
    "    Dense(256, activation='relu', input_shape=(train_features.shape[1],)),\n",
    "    Dropout(0.5),\n",
    "    Dense(128, activation='relu'),\n",
    "    Dropout(0.5),\n",
    "    Dense(2, activation='softmax')\n",
    "])\n",
    "\n",
    "model.compile(optimizer='adam', loss='categorical_crossentropy', metrics=['accuracy'])\n",
    "\n",
    "# Latih model\n",
    "print(\"Melatih model FCNN...\")\n",
    "history = model.fit(\n",
    "    train_features, train_labels_categorical,\n",
    "    epochs=20,\n",
    "    batch_size=32,\n",
    "    validation_data=(val_features, val_labels_categorical)\n",
    ")\n",
    "\n",
    "# Simpan model\n",
    "model_save_path = os.path.join(path_output, \"fcnn_model.h5\")\n",
    "model.save(model_save_path)\n",
    "print(f\"Model disimpan di {model_save_path}\")"
   ]
  },
  {
   "cell_type": "code",
   "execution_count": 6,
   "metadata": {
    "colab": {
     "base_uri": "https://localhost:8080/"
    },
    "id": "eonj289uazhn",
    "outputId": "97f8baeb-2450-48ed-d76f-2c8fbce6b537"
   },
   "outputs": [
    {
     "name": "stdout",
     "output_type": "stream",
     "text": [
      "Evaluasi model pada data validasi...\n",
      "\u001b[1m196/196\u001b[0m \u001b[32m━━━━━━━━━━━━━━━━━━━━\u001b[0m\u001b[37m\u001b[0m \u001b[1m1s\u001b[0m 2ms/step\n",
      "Classification Report:\n",
      "              precision    recall  f1-score   support\n",
      "\n",
      "      Drowsy       1.00      1.00      1.00      3339\n",
      "  Non Drowsy       1.00      1.00      1.00      2905\n",
      "\n",
      "    accuracy                           1.00      6244\n",
      "   macro avg       1.00      1.00      1.00      6244\n",
      "weighted avg       1.00      1.00      1.00      6244\n",
      "\n"
     ]
    }
   ],
   "source": [
    "# Evaluasi model\n",
    "print(\"Evaluasi model pada data validasi...\")\n",
    "predictions = model.predict(val_features)\n",
    "predicted_labels = np.argmax(predictions, axis=1)\n",
    "\n",
    "print(\"Classification Report:\")\n",
    "print(classification_report(val_labels_encoded, predicted_labels, target_names=[\"Drowsy\", \"Non Drowsy\"]))"
   ]
  },
  {
   "cell_type": "code",
   "execution_count": null,
   "metadata": {},
   "outputs": [],
   "source": []
  }
 ],
 "metadata": {
  "colab": {
   "provenance": []
  },
  "kernelspec": {
   "display_name": "Python 3 (ipykernel)",
   "language": "python",
   "name": "python3"
  },
  "language_info": {
   "codemirror_mode": {
    "name": "ipython",
    "version": 3
   },
   "file_extension": ".py",
   "mimetype": "text/x-python",
   "name": "python",
   "nbconvert_exporter": "python",
   "pygments_lexer": "ipython3",
   "version": "3.11.1"
  }
 },
 "nbformat": 4,
 "nbformat_minor": 4
}
