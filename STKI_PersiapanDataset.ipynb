{
 "cells": [
  {
   "cell_type": "markdown",
   "metadata": {
    "id": "eWbMcb40DeEu"
   },
   "source": [
    "## Import Library"
   ]
  },
  {
   "cell_type": "code",
   "execution_count": 1,
   "metadata": {
    "id": "ecoQ_Kvk8-TZ"
   },
   "outputs": [],
   "source": [
    "import os\n",
    "import shutil\n",
    "import random\n",
    "import re\n",
    "from sklearn.model_selection import train_test_split"
   ]
  },
  {
   "cell_type": "markdown",
   "metadata": {
    "id": "oaqTx3QdDku6"
   },
   "source": [
    "## Split Data Subjek"
   ]
  },
  {
   "cell_type": "code",
   "execution_count": 2,
   "metadata": {
    "id": "NwKO88kz9Kkb"
   },
   "outputs": [],
   "source": [
    "# Path dataset asal dan tujuan\n",
    "base_path = 'dataset'\n",
    "dataset_path = os.path.join(base_path, 'DriverDrowsinessDataset')\n",
    "destination_path = os.path.join(base_path, 'DatasetSubject')"
   ]
  },
  {
   "cell_type": "code",
   "execution_count": 3,
   "metadata": {
    "id": "J2mqU6D49OnQ"
   },
   "outputs": [],
   "source": [
    "def manage_subject_files(source_path, destination_path):\n",
    "    # Pastikan folder tujuan ada, jika tidak buat\n",
    "    if not os.path.exists(destination_path):\n",
    "        os.makedirs(destination_path)\n",
    "\n",
    "    # Iterasi setiap file di folder sumber\n",
    "    for category in ['Drowsy', 'Non Drowsy']:\n",
    "        category_path = os.path.join(source_path, category)\n",
    "        category_destination = os.path.join(destination_path, category)\n",
    "        if not os.path.exists(category_destination):\n",
    "            os.makedirs(category_destination)\n",
    "\n",
    "        for file_name in os.listdir(category_path):\n",
    "            if file_name.endswith(('.png', '.jpg', '.jpeg')):\n",
    "                # Ambil karakter pertama dari nama file sebagai subjek\n",
    "                subject_folder = file_name[0].lower()\n",
    "                subject_path = os.path.join(category_destination, subject_folder)\n",
    "\n",
    "                # Buat folder subjek jika belum ada\n",
    "                if not os.path.exists(subject_path):\n",
    "                    os.makedirs(subject_path)\n",
    "\n",
    "                # Pindahkan file ke folder subjek\n",
    "                src_file = os.path.join(category_path, file_name)\n",
    "                dst_file = os.path.join(subject_path, file_name)\n",
    "                shutil.move(src_file, dst_file)"
   ]
  },
  {
   "cell_type": "code",
   "execution_count": 4,
   "metadata": {
    "colab": {
     "base_uri": "https://localhost:8080/"
    },
    "id": "EEHUx-3u9Q6S",
    "outputId": "c593d40b-6d1c-49fc-9785-84547edd3b4a"
   },
   "outputs": [
    {
     "name": "stdout",
     "output_type": "stream",
     "text": [
      "Split dataset subjek selesai.\n"
     ]
    }
   ],
   "source": [
    "# Jalankan fungsi\n",
    "manage_subject_files(dataset_path, destination_path)\n",
    "print(\"Split dataset subjek selesai.\")"
   ]
  },
  {
   "cell_type": "markdown",
   "metadata": {
    "id": "9A68AEQqDpYt"
   },
   "source": [
    "### Split subjek z"
   ]
  },
  {
   "cell_type": "code",
   "execution_count": 5,
   "metadata": {
    "id": "eUN_k-yBDUjp"
   },
   "outputs": [],
   "source": [
    "# Path asal dan tujuan\n",
    "base_path = 'dataset/DatasetSubject'\n",
    "categories = ['Drowsy', 'Non Drowsy']  # Dua kategori dataset\n",
    "subfolder_to_split = 'z'  # Folder yang ingin diproses"
   ]
  },
  {
   "cell_type": "code",
   "execution_count": 6,
   "metadata": {
    "id": "om1xBTI5DWeh"
   },
   "outputs": [],
   "source": [
    "# Fungsi untuk memisahkan file ke sub-folder berdasarkan prefix nama file\n",
    "def split_subject_in_z(category_path):\n",
    "    z_path = os.path.join(category_path, subfolder_to_split)\n",
    "\n",
    "    # Cek apakah folder 'z' ada\n",
    "    if not os.path.exists(z_path):\n",
    "        print(f\"Folder {z_path} tidak ditemukan.\")\n",
    "        return\n",
    "\n",
    "    # Iterasi semua file di folder 'z'\n",
    "    for filename in os.listdir(z_path):\n",
    "        if not filename.endswith(('.png', '.jpg', '.jpeg')):\n",
    "            continue  # Skip jika bukan file gambar\n",
    "\n",
    "        # Tentukan prefix dari nama file (contoh: za, zb, zc)\n",
    "        subject_prefix = filename[:2]  # Dua huruf pertama\n",
    "\n",
    "        # Buat sub-folder berdasarkan prefix jika belum ada\n",
    "        subject_folder = os.path.join(z_path, subject_prefix)\n",
    "        if not os.path.exists(subject_folder):\n",
    "            os.makedirs(subject_folder)\n",
    "\n",
    "        # Pindahkan file ke sub-folder yang sesuai\n",
    "        src_file = os.path.join(z_path, filename)\n",
    "        dest_file = os.path.join(subject_folder, filename)\n",
    "        shutil.move(src_file, dest_file)\n",
    "\n",
    "    print(f\"Proses pemisahan file di folder '{z_path}' selesai.\")"
   ]
  },
  {
   "cell_type": "code",
   "execution_count": 7,
   "metadata": {
    "colab": {
     "base_uri": "https://localhost:8080/"
    },
    "id": "g2ieVojLIt2m",
    "outputId": "d6572958-8164-41e8-bbb0-48598ce7c4d3"
   },
   "outputs": [
    {
     "name": "stdout",
     "output_type": "stream",
     "text": [
      "Proses pemisahan file di folder 'dataset/DatasetSubject\\Drowsy\\z' selesai.\n",
      "Proses pemisahan file di folder 'dataset/DatasetSubject\\Non Drowsy\\z' selesai.\n"
     ]
    }
   ],
   "source": [
    "# Jalankan fungsi untuk setiap kategori\n",
    "for category in categories:\n",
    "    category_path = os.path.join(base_path, category)\n",
    "    split_subject_in_z(category_path)"
   ]
  },
  {
   "cell_type": "code",
   "execution_count": 9,
   "metadata": {
    "id": "7c5xRj2bIylY"
   },
   "outputs": [],
   "source": [
    "# Base path\n",
    "base_path = 'dataset/DatasetSubject'\n",
    "\n",
    "# List kategori utama\n",
    "categories = ['Drowsy', 'Non Drowsy']"
   ]
  },
  {
   "cell_type": "code",
   "execution_count": 10,
   "metadata": {
    "id": "_FkZZQj3I6bq"
   },
   "outputs": [
    {
     "name": "stdout",
     "output_type": "stream",
     "text": [
      "Memindahkan ZA dari dataset/DatasetSubject\\Drowsy\\z ke dataset/DatasetSubject\\Drowsy\n",
      "Memindahkan ZB dari dataset/DatasetSubject\\Drowsy\\z ke dataset/DatasetSubject\\Drowsy\n",
      "Memindahkan ZC dari dataset/DatasetSubject\\Drowsy\\z ke dataset/DatasetSubject\\Drowsy\n",
      "Menghapus folder kosong: dataset/DatasetSubject\\Drowsy\\z\n",
      "\n",
      "Memindahkan za dari dataset/DatasetSubject\\Non Drowsy\\z ke dataset/DatasetSubject\\Non Drowsy\n",
      "Memindahkan zb dari dataset/DatasetSubject\\Non Drowsy\\z ke dataset/DatasetSubject\\Non Drowsy\n",
      "Memindahkan zc dari dataset/DatasetSubject\\Non Drowsy\\z ke dataset/DatasetSubject\\Non Drowsy\n",
      "Menghapus folder kosong: dataset/DatasetSubject\\Non Drowsy\\z\n",
      "\n"
     ]
    }
   ],
   "source": [
    "for category in categories:\n",
    "    category_path = os.path.join(base_path, category)\n",
    "    z_folder = os.path.join(category_path, 'z')\n",
    "\n",
    "    if os.path.exists(z_folder):\n",
    "        # Pindahkan semua subfolder di dalam 'z' ke level utama\n",
    "        for subfolder in os.listdir(z_folder):\n",
    "            subfolder_path = os.path.join(z_folder, subfolder)\n",
    "            target_path = os.path.join(category_path, subfolder)\n",
    "\n",
    "            if os.path.isdir(subfolder_path):\n",
    "                print(f\"Memindahkan {subfolder} dari {z_folder} ke {category_path}\")\n",
    "                shutil.move(subfolder_path, target_path)\n",
    "\n",
    "        # Hapus folder 'z' jika sudah kosong\n",
    "        if not os.listdir(z_folder):\n",
    "            print(f\"Menghapus folder kosong: {z_folder}\\n\")\n",
    "            os.rmdir(z_folder)"
   ]
  },
  {
   "cell_type": "code",
   "execution_count": 11,
   "metadata": {
    "colab": {
     "base_uri": "https://localhost:8080/"
    },
    "id": "px_9N9Y0JBqQ",
    "outputId": "9ca757ed-8ee6-4c4a-b3d7-6711e1483209"
   },
   "outputs": [
    {
     "name": "stdout",
     "output_type": "stream",
     "text": [
      "Drowsy folders:\n",
      "['A', 'B', 'C', 'D', 'E', 'F', 'G', 'H', 'I', 'J', 'K', 'L', 'M', 'N', 'O', 'P', 'Q', 'R', 'S', 'T', 'U', 'V', 'W', 'X', 'Y', 'ZA', 'ZB', 'ZC']\n",
      "Non Drowsy folders:\n",
      "['a', 'b', 'c', 'd', 'e', 'g', 'h', 'i', 'j', 'k', 'l', 'm', 'n', 'o', 'p', 'q', 'r', 's', 'u', 'v', 'w', 'x', 'y', 'za', 'zb', 'zc']\n"
     ]
    }
   ],
   "source": [
    "for category in categories:\n",
    "    print(f\"{category} folders:\")\n",
    "    folder_path = os.path.join(base_path, category)\n",
    "    print(os.listdir(folder_path))"
   ]
  },
  {
   "cell_type": "code",
   "execution_count": 12,
   "metadata": {
    "colab": {
     "base_uri": "https://localhost:8080/"
    },
    "id": "QG9kS4MMOeRQ",
    "outputId": "58565442-1ef6-4b56-936a-7da5806e6e7c"
   },
   "outputs": [
    {
     "name": "stdout",
     "output_type": "stream",
     "text": [
      "\n",
      "Drowsy:\n",
      "A : 1411 files\n",
      "B : 315 files\n",
      "C : 335 files\n",
      "D : 179 files\n",
      "E : 962 files\n",
      "F : 415 files\n",
      "G : 499 files\n",
      "H : 508 files\n",
      "I : 1095 files\n",
      "J : 474 files\n",
      "K : 630 files\n",
      "L : 732 files\n",
      "M : 777 files\n",
      "N : 1156 files\n",
      "O : 1097 files\n",
      "P : 963 files\n",
      "Q : 562 files\n",
      "R : 204 files\n",
      "S : 487 files\n",
      "T : 933 files\n",
      "U : 420 files\n",
      "V : 653 files\n",
      "W : 1162 files\n",
      "X : 1749 files\n",
      "Y : 1112 files\n",
      "ZA : 621 files\n",
      "ZB : 1551 files\n",
      "ZC : 1346 files\n",
      "\n",
      "Total Drowsy files: 22348 files\n",
      "\n",
      "Non Drowsy:\n",
      "a : 1252 files\n",
      "b : 409 files\n",
      "c : 400 files\n",
      "d : 1005 files\n",
      "e : 1000 files\n",
      "g : 109 files\n",
      "h : 571 files\n",
      "i : 1045 files\n",
      "j : 717 files\n",
      "k : 538 files\n",
      "l : 381 files\n",
      "m : 473 files\n",
      "n : 957 files\n",
      "o : 671 files\n",
      "p : 190 files\n",
      "q : 521 files\n",
      "r : 522 files\n",
      "s : 457 files\n",
      "u : 510 files\n",
      "v : 1002 files\n",
      "w : 493 files\n",
      "x : 1143 files\n",
      "y : 1500 files\n",
      "za : 1054 files\n",
      "zb : 1237 files\n",
      "zc : 1288 files\n",
      "\n",
      "Total Non Drowsy files: 19445 files\n"
     ]
    }
   ],
   "source": [
    "# Loop melalui setiap kategori dan folder\n",
    "for category in categories:\n",
    "    print(f\"\\n{category}:\")\n",
    "    folder_path = os.path.join(base_path, category)\n",
    "\n",
    "    # Ambil semua folder, urutkan berdasarkan abjad\n",
    "    folders = sorted(os.listdir(folder_path))\n",
    "\n",
    "    # Variabel untuk menghitung total file dalam kategori\n",
    "    total_files = 0\n",
    "\n",
    "    # Loop melalui setiap folder (subjek) di dalam kategori\n",
    "    for folder in folders:\n",
    "        folder_sub_path = os.path.join(folder_path, folder)\n",
    "\n",
    "        if os.path.isdir(folder_sub_path):  # Hanya untuk folder\n",
    "            # Menghitung jumlah file dalam folder\n",
    "            file_count = len(os.listdir(folder_sub_path))\n",
    "            total_files += file_count  # Tambah ke total\n",
    "\n",
    "            print(f\"{folder} : {file_count} files\")\n",
    "\n",
    "    # Mencetak jumlah total file di dalam kategori\n",
    "    print(f\"\\nTotal {category} files: {total_files} files\")"
   ]
  },
  {
   "cell_type": "markdown",
   "metadata": {
    "id": "UcH7qOytDsyk"
   },
   "source": [
    "## Split Data Final"
   ]
  },
  {
   "cell_type": "code",
   "execution_count": 14,
   "metadata": {
    "id": "lXVPrard9SXc"
   },
   "outputs": [],
   "source": [
    "# Path asal dataset\n",
    "base_path = 'dataset'\n",
    "dataset_subject_path = os.path.join(base_path, 'DatasetSubject')\n",
    "dataset_final_path = os.path.join(base_path, 'DatasetFinal')\n",
    "\n",
    "# Path tujuan split dataset\n",
    "train_path = os.path.join(dataset_final_path, 'train')\n",
    "val_path = os.path.join(dataset_final_path, 'val')\n",
    "test_path = os.path.join(dataset_final_path, 'test')"
   ]
  },
  {
   "cell_type": "code",
   "execution_count": 15,
   "metadata": {
    "id": "aXN5YG_D9blz"
   },
   "outputs": [],
   "source": [
    "# Fungsi untuk memastikan folder ada\n",
    "def ensure_folder_exists(folder_path):\n",
    "    if not os.path.exists(folder_path):\n",
    "        os.makedirs(folder_path)\n",
    "\n",
    "# Fungsi untuk membagi dataset ke dalam train, val, test\n",
    "def split_dataset(source_folder, train_folder, val_folder, test_folder, split_ratio):\n",
    "    ensure_folder_exists(train_folder)\n",
    "    ensure_folder_exists(val_folder)\n",
    "    ensure_folder_exists(test_folder)\n",
    "\n",
    "    for subject in os.listdir(source_folder):\n",
    "        subject_path = os.path.join(source_folder, subject)\n",
    "\n",
    "        if os.path.isdir(subject_path):\n",
    "            files = [f for f in os.listdir(subject_path) if f.endswith(('.png', '.jpg', '.jpeg'))]\n",
    "            random.shuffle(files)\n",
    "\n",
    "            train_count = int(len(files) * split_ratio[0])\n",
    "            val_count = int(len(files) * split_ratio[1])\n",
    "\n",
    "            train_files = files[:train_count]\n",
    "            val_files = files[train_count:train_count + val_count]\n",
    "            test_files = files[train_count + val_count:]\n",
    "\n",
    "            # Pindahkan file ke folder train\n",
    "            for file in train_files:\n",
    "                ensure_folder_exists(os.path.join(train_folder, subject))\n",
    "                shutil.move(os.path.join(subject_path, file), os.path.join(train_folder, subject, file))\n",
    "\n",
    "            # Pindahkan file ke folder val\n",
    "            for file in val_files:\n",
    "                ensure_folder_exists(os.path.join(val_folder, subject))\n",
    "                shutil.move(os.path.join(subject_path, file), os.path.join(val_folder, subject, file))\n",
    "\n",
    "            # Pindahkan file ke folder test\n",
    "            for file in test_files:\n",
    "                ensure_folder_exists(os.path.join(test_folder, subject))\n",
    "                shutil.move(os.path.join(subject_path, file), os.path.join(test_folder, subject, file))"
   ]
  },
  {
   "cell_type": "code",
   "execution_count": 16,
   "metadata": {
    "id": "W1h1DY5J9dsL"
   },
   "outputs": [],
   "source": [
    "# Jalankan pembagian untuk kategori Drowsy dan Non Drowsy\n",
    "split_ratio = (0.7, 0.15, 0.15)  # Train 70%, Val 15%, Test 15%\n",
    "\n",
    "# Drowsy\n",
    "split_dataset(\n",
    "    os.path.join(dataset_subject_path, 'Drowsy'),\n",
    "    os.path.join(train_path, 'Drowsy'),\n",
    "    os.path.join(val_path, 'Drowsy'),\n",
    "    os.path.join(test_path, 'Drowsy'),\n",
    "    split_ratio\n",
    ")\n",
    "\n",
    "# Non Drowsy\n",
    "split_dataset(\n",
    "    os.path.join(dataset_subject_path, 'Non Drowsy'),\n",
    "    os.path.join(train_path, 'Non Drowsy'),\n",
    "    os.path.join(val_path, 'Non Drowsy'),\n",
    "    os.path.join(test_path, 'Non Drowsy'),\n",
    "    split_ratio\n",
    ")"
   ]
  },
  {
   "cell_type": "code",
   "execution_count": 17,
   "metadata": {
    "id": "eIeWfT47Qp8v"
   },
   "outputs": [],
   "source": [
    "# Fungsi untuk mencetak jumlah file dalam folder\n",
    "def count_files_in_folders(category_path):\n",
    "    total_files = 0\n",
    "    print(f\"\\n{category_path.split('/')[-1]}:\")\n",
    "    for subject in os.listdir(category_path):\n",
    "        subject_path = os.path.join(category_path, subject)\n",
    "        if os.path.isdir(subject_path):\n",
    "            file_count = len([f for f in os.listdir(subject_path) if f.endswith(('.png', '.jpg', '.jpeg'))])\n",
    "            total_files += file_count\n",
    "            print(f\"{subject} : {file_count} files\")\n",
    "    print(f\"Total {category_path.split('/')[-1]} file: {total_files} files\")"
   ]
  },
  {
   "cell_type": "code",
   "execution_count": 18,
   "metadata": {
    "colab": {
     "base_uri": "https://localhost:8080/"
    },
    "id": "p9eGiBcfSM4Q",
    "outputId": "518f4cef-50f8-4588-ed0e-3ec1aa1b946f"
   },
   "outputs": [
    {
     "name": "stdout",
     "output_type": "stream",
     "text": [
      "Train:\n",
      "\n",
      "dataset\\DatasetFinal\\train\\Drowsy:\n",
      "A : 987 files\n",
      "B : 220 files\n",
      "C : 234 files\n",
      "D : 125 files\n",
      "E : 673 files\n",
      "F : 290 files\n",
      "G : 349 files\n",
      "H : 355 files\n",
      "I : 766 files\n",
      "J : 331 files\n",
      "K : 441 files\n",
      "L : 512 files\n",
      "M : 543 files\n",
      "N : 809 files\n",
      "O : 767 files\n",
      "P : 674 files\n",
      "Q : 393 files\n",
      "R : 142 files\n",
      "S : 340 files\n",
      "T : 653 files\n",
      "U : 294 files\n",
      "V : 457 files\n",
      "W : 813 files\n",
      "X : 1224 files\n",
      "Y : 778 files\n",
      "ZA : 434 files\n",
      "ZB : 1085 files\n",
      "ZC : 942 files\n",
      "Total dataset\\DatasetFinal\\train\\Drowsy file: 15631 files\n",
      "\n",
      "dataset\\DatasetFinal\\train\\Non Drowsy:\n",
      "a : 876 files\n",
      "b : 286 files\n",
      "c : 280 files\n",
      "d : 703 files\n",
      "e : 700 files\n",
      "g : 76 files\n",
      "h : 399 files\n",
      "i : 731 files\n",
      "j : 501 files\n",
      "k : 376 files\n",
      "l : 266 files\n",
      "m : 331 files\n",
      "n : 669 files\n",
      "o : 469 files\n",
      "p : 133 files\n",
      "q : 364 files\n",
      "r : 365 files\n",
      "s : 319 files\n",
      "u : 357 files\n",
      "v : 701 files\n",
      "w : 345 files\n",
      "x : 800 files\n",
      "y : 1050 files\n",
      "za : 737 files\n",
      "zb : 865 files\n",
      "zc : 901 files\n",
      "Total dataset\\DatasetFinal\\train\\Non Drowsy file: 13600 files\n",
      "\n",
      "Val:\n",
      "\n",
      "dataset\\DatasetFinal\\val\\Drowsy:\n",
      "A : 211 files\n",
      "B : 47 files\n",
      "C : 50 files\n",
      "D : 26 files\n",
      "E : 144 files\n",
      "F : 62 files\n",
      "G : 74 files\n",
      "H : 76 files\n",
      "I : 164 files\n",
      "J : 71 files\n",
      "K : 94 files\n",
      "L : 109 files\n",
      "M : 116 files\n",
      "N : 173 files\n",
      "O : 164 files\n",
      "P : 144 files\n",
      "Q : 84 files\n",
      "R : 30 files\n",
      "S : 73 files\n",
      "T : 139 files\n",
      "U : 63 files\n",
      "V : 97 files\n",
      "W : 174 files\n",
      "X : 262 files\n",
      "Y : 166 files\n",
      "ZA : 93 files\n",
      "ZB : 232 files\n",
      "ZC : 201 files\n",
      "Total dataset\\DatasetFinal\\val\\Drowsy file: 3339 files\n",
      "\n",
      "dataset\\DatasetFinal\\val\\Non Drowsy:\n",
      "a : 187 files\n",
      "b : 61 files\n",
      "c : 60 files\n",
      "d : 150 files\n",
      "e : 150 files\n",
      "g : 16 files\n",
      "h : 85 files\n",
      "i : 156 files\n",
      "j : 107 files\n",
      "k : 80 files\n",
      "l : 57 files\n",
      "m : 70 files\n",
      "n : 143 files\n",
      "o : 100 files\n",
      "p : 28 files\n",
      "q : 78 files\n",
      "r : 78 files\n",
      "s : 68 files\n",
      "u : 76 files\n",
      "v : 150 files\n",
      "w : 73 files\n",
      "x : 171 files\n",
      "y : 225 files\n",
      "za : 158 files\n",
      "zb : 185 files\n",
      "zc : 193 files\n",
      "Total dataset\\DatasetFinal\\val\\Non Drowsy file: 2905 files\n",
      "\n",
      "Test:\n",
      "\n",
      "dataset\\DatasetFinal\\test\\Drowsy:\n",
      "A : 213 files\n",
      "B : 48 files\n",
      "C : 51 files\n",
      "D : 28 files\n",
      "E : 145 files\n",
      "F : 63 files\n",
      "G : 76 files\n",
      "H : 77 files\n",
      "I : 165 files\n",
      "J : 72 files\n",
      "K : 95 files\n",
      "L : 111 files\n",
      "M : 118 files\n",
      "N : 174 files\n",
      "O : 166 files\n",
      "P : 145 files\n",
      "Q : 85 files\n",
      "R : 32 files\n",
      "S : 74 files\n",
      "T : 141 files\n",
      "U : 63 files\n",
      "V : 99 files\n",
      "W : 175 files\n",
      "X : 263 files\n",
      "Y : 168 files\n",
      "ZA : 94 files\n",
      "ZB : 234 files\n",
      "ZC : 203 files\n",
      "Total dataset\\DatasetFinal\\test\\Drowsy file: 3378 files\n",
      "\n",
      "dataset\\DatasetFinal\\test\\Non Drowsy:\n",
      "a : 189 files\n",
      "b : 62 files\n",
      "c : 60 files\n",
      "d : 152 files\n",
      "e : 150 files\n",
      "g : 17 files\n",
      "h : 87 files\n",
      "i : 158 files\n",
      "j : 109 files\n",
      "k : 82 files\n",
      "l : 58 files\n",
      "m : 72 files\n",
      "n : 145 files\n",
      "o : 102 files\n",
      "p : 29 files\n",
      "q : 79 files\n",
      "r : 79 files\n",
      "s : 70 files\n",
      "u : 77 files\n",
      "v : 151 files\n",
      "w : 75 files\n",
      "x : 172 files\n",
      "y : 225 files\n",
      "za : 159 files\n",
      "zb : 187 files\n",
      "zc : 194 files\n",
      "Total dataset\\DatasetFinal\\test\\Non Drowsy file: 2940 files\n"
     ]
    }
   ],
   "source": [
    "# Mencetak jumlah file untuk kategori Drowsy dan Non Drowsy pada train, val, test\n",
    "categories = ['Drowsy', 'Non Drowsy']\n",
    "\n",
    "# Train\n",
    "print(\"Train:\")\n",
    "for category in categories:\n",
    "    count_files_in_folders(os.path.join(train_path, category))\n",
    "\n",
    "# Val\n",
    "print(\"\\nVal:\")\n",
    "for category in categories:\n",
    "    count_files_in_folders(os.path.join(val_path, category))\n",
    "\n",
    "# Test\n",
    "print(\"\\nTest:\")\n",
    "for category in categories:\n",
    "    count_files_in_folders(os.path.join(test_path, category))"
   ]
  },
  {
   "cell_type": "code",
   "execution_count": null,
   "metadata": {},
   "outputs": [],
   "source": []
  }
 ],
 "metadata": {
  "colab": {
   "provenance": []
  },
  "kernelspec": {
   "display_name": "Python 3 (ipykernel)",
   "language": "python",
   "name": "python3"
  },
  "language_info": {
   "codemirror_mode": {
    "name": "ipython",
    "version": 3
   },
   "file_extension": ".py",
   "mimetype": "text/x-python",
   "name": "python",
   "nbconvert_exporter": "python",
   "pygments_lexer": "ipython3",
   "version": "3.11.1"
  }
 },
 "nbformat": 4,
 "nbformat_minor": 4
}
